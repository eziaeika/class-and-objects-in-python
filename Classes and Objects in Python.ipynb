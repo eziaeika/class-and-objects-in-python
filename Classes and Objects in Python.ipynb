{
 "cells": [
  {
   "cell_type": "code",
   "execution_count": 1,
   "metadata": {},
   "outputs": [],
   "source": [
    "class Robot:\n",
    "    #Creating a constructor \n",
    "    def __init__(self, givenName, givenColor, givenWeight):\n",
    "        self.name = givenName #set Object name to givenName\n",
    "        self.color = givenColor #This is need to be the same as the arguments\n",
    "        self.weight = givenWeight\n",
    "    \n",
    "    def introduce_self(self): #we need to have self as an argument \n",
    "        print(\"My name is \"+self.name)\n",
    "    def introduce_color(self):\n",
    "        print(\"My favorite color is \"+self.color)"
   ]
  },
  {
   "cell_type": "code",
   "execution_count": 2,
   "metadata": {},
   "outputs": [],
   "source": [
    "# r1 = Robot()\n",
    "# r1.name = \"Ehsan\"\n",
    "# r1.color = \"red\"\n",
    "# r1.weight = 30\n",
    "\n",
    "# r2 = Robot()\n",
    "# r2.name = \"Kendra\"\n",
    "# r2.color = \"green\"\n",
    "# r2.weight = 40\n",
    "\n",
    "\n",
    "#This is more cleaner because we don't have to manually write the atribute each time\n",
    "r1 = Robot(\"Ehsan\", \"red\", 30)\n",
    "r2 = Robot(\"Kendra\", \"blue\", 40)"
   ]
  },
  {
   "cell_type": "code",
   "execution_count": 3,
   "metadata": {},
   "outputs": [
    {
     "name": "stdout",
     "output_type": "stream",
     "text": [
      "My name is Ehsan\n",
      "My name is Kendra\n"
     ]
    }
   ],
   "source": [
    "r1.introduce_self()\n",
    "r2.introduce_self()"
   ]
  },
  {
   "cell_type": "code",
   "execution_count": 4,
   "metadata": {},
   "outputs": [
    {
     "name": "stdout",
     "output_type": "stream",
     "text": [
      "My favorite color is red\n"
     ]
    }
   ],
   "source": [
    "r1.introduce_color()"
   ]
  },
  {
   "cell_type": "code",
   "execution_count": null,
   "metadata": {},
   "outputs": [],
   "source": []
  }
 ],
 "metadata": {
  "kernelspec": {
   "display_name": "Python 3",
   "language": "python",
   "name": "python3"
  },
  "language_info": {
   "codemirror_mode": {
    "name": "ipython",
    "version": 3
   },
   "file_extension": ".py",
   "mimetype": "text/x-python",
   "name": "python",
   "nbconvert_exporter": "python",
   "pygments_lexer": "ipython3",
   "version": "3.8.5"
  }
 },
 "nbformat": 4,
 "nbformat_minor": 4
}
